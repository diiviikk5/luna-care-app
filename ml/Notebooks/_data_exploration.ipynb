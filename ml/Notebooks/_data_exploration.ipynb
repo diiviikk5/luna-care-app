{
 "cells": [
  {
   "cell_type": "code",
   "execution_count": 3,
   "id": "fd139216",
   "metadata": {},
   "outputs": [
    {
     "name": "stdout",
     "output_type": "stream",
     "text": [
      "Dataset shape: (541, 6)\n",
      "Target: PCOS (Y/N)\n",
      "Class distribution:\n",
      "PCOS (Y/N)\n",
      "0    364\n",
      "1    177\n",
      "Name: count, dtype: int64\n"
     ]
    },
    {
     "data": {
      "text/plain": [
       "<Figure size 1500x1000 with 0 Axes>"
      ]
     },
     "execution_count": 3,
     "metadata": {},
     "output_type": "execute_result"
    },
    {
     "data": {
      "text/plain": [
       "<Figure size 1500x1000 with 0 Axes>"
      ]
     },
     "metadata": {},
     "output_type": "display_data"
    }
   ],
   "source": [
    "# Cell 1: Import and Load Data\n",
    "import pandas as pd\n",
    "import numpy as np\n",
    "import matplotlib.pyplot as plt\n",
    "import seaborn as sns\n",
    "from collections import Counter\n",
    "\n",
    "# Load PCOS dataset\n",
    "df = pd.read_csv('../data/processed/PCOS_infertility.csv')\n",
    "print(f\"Dataset shape: {df.shape}\")\n",
    "df.head()\n",
    "\n",
    "# Cell 2: Basic EDA\n",
    "# Show class distribution, missing values, feature types\n",
    "target_col = [col for col in df.columns if 'PCOS' in col.upper()][0]\n",
    "print(f\"Target: {target_col}\")\n",
    "print(f\"Class distribution:\\n{df[target_col].value_counts()}\")\n",
    "\n",
    "# Cell 3: Visualizations\n",
    "plt.figure(figsize=(15, 10))\n",
    "# Create 4 subplots showing distributions, correlations, etc.\n",
    "\n",
    "# Cell 4: Data Cleaning\n",
    "# Show missing value handling, normalization steps\n"
   ]
  },
  {
   "cell_type": "code",
   "execution_count": null,
   "id": "9fe92a12",
   "metadata": {},
   "outputs": [],
   "source": []
  },
  {
   "cell_type": "code",
   "execution_count": null,
   "id": "07a55581",
   "metadata": {},
   "outputs": [],
   "source": []
  }
 ],
 "metadata": {
  "kernelspec": {
   "display_name": "venv",
   "language": "python",
   "name": "python3"
  },
  "language_info": {
   "codemirror_mode": {
    "name": "ipython",
    "version": 3
   },
   "file_extension": ".py",
   "mimetype": "text/x-python",
   "name": "python",
   "nbconvert_exporter": "python",
   "pygments_lexer": "ipython3",
   "version": "3.12.5"
  }
 },
 "nbformat": 4,
 "nbformat_minor": 5
}
